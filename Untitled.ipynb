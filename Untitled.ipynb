{
 "cells": [
  {
   "cell_type": "code",
   "execution_count": 1,
   "metadata": {},
   "outputs": [],
   "source": [
    "import pandas as pd\n"
   ]
  },
  {
   "cell_type": "code",
   "execution_count": 12,
   "metadata": {},
   "outputs": [],
   "source": [
    "def gen_date(dep = \"2000-01-01\", fin = \"2030-12-31\"):\n",
    "    df = pd.DataFrame({\"Date\": pd.date_range(dep, fin)})\n",
    "    df[\"Day\"] = df.Date.dt.day\n",
    "    df[\"Month\"] = df.Date.dt.month\n",
    "    df[\"Week\"] = df.Date.dt.weekofyear\n",
    "    df[\"Quarter\"] = df.Date.dt.quarter\n",
    "    df[\"Year\"] = df.Date.dt.year\n",
    "    df[\"semester\"] = (df.Quarter + 1) // 2\n",
    "\n",
    "\n",
    "\n",
    "    return df"
   ]
  },
  {
   "cell_type": "code",
   "execution_count": 13,
   "metadata": {},
   "outputs": [],
   "source": [
    "todate = gen_date()"
   ]
  },
  {
   "cell_type": "code",
   "execution_count": 14,
   "metadata": {},
   "outputs": [
    {
     "output_type": "execute_result",
     "data": {
      "text/plain": "        Date  Day  Month  Week  Quarter  Year  semester\n0 2000-01-01    1      1    52        1  2000         1\n1 2000-01-02    2      1    52        1  2000         1\n2 2000-01-03    3      1     1        1  2000         1\n3 2000-01-04    4      1     1        1  2000         1\n4 2000-01-05    5      1     1        1  2000         1",
      "text/html": "<div>\n<style scoped>\n    .dataframe tbody tr th:only-of-type {\n        vertical-align: middle;\n    }\n\n    .dataframe tbody tr th {\n        vertical-align: top;\n    }\n\n    .dataframe thead th {\n        text-align: right;\n    }\n</style>\n<table border=\"1\" class=\"dataframe\">\n  <thead>\n    <tr style=\"text-align: right;\">\n      <th></th>\n      <th>Date</th>\n      <th>Day</th>\n      <th>Month</th>\n      <th>Week</th>\n      <th>Quarter</th>\n      <th>Year</th>\n      <th>semester</th>\n    </tr>\n  </thead>\n  <tbody>\n    <tr>\n      <th>0</th>\n      <td>2000-01-01</td>\n      <td>1</td>\n      <td>1</td>\n      <td>52</td>\n      <td>1</td>\n      <td>2000</td>\n      <td>1</td>\n    </tr>\n    <tr>\n      <th>1</th>\n      <td>2000-01-02</td>\n      <td>2</td>\n      <td>1</td>\n      <td>52</td>\n      <td>1</td>\n      <td>2000</td>\n      <td>1</td>\n    </tr>\n    <tr>\n      <th>2</th>\n      <td>2000-01-03</td>\n      <td>3</td>\n      <td>1</td>\n      <td>1</td>\n      <td>1</td>\n      <td>2000</td>\n      <td>1</td>\n    </tr>\n    <tr>\n      <th>3</th>\n      <td>2000-01-04</td>\n      <td>4</td>\n      <td>1</td>\n      <td>1</td>\n      <td>1</td>\n      <td>2000</td>\n      <td>1</td>\n    </tr>\n    <tr>\n      <th>4</th>\n      <td>2000-01-05</td>\n      <td>5</td>\n      <td>1</td>\n      <td>1</td>\n      <td>1</td>\n      <td>2000</td>\n      <td>1</td>\n    </tr>\n  </tbody>\n</table>\n</div>"
     },
     "metadata": {},
     "execution_count": 14
    }
   ],
   "source": [
    "todate.head()"
   ]
  },
  {
   "cell_type": "code",
   "execution_count": 15,
   "metadata": {},
   "outputs": [],
   "source": [
    "todate.to_csv(\"datasets/todate.csv\")"
   ]
  },
  {
   "cell_type": "code",
   "execution_count": null,
   "metadata": {},
   "outputs": [],
   "source": []
  }
 ],
 "metadata": {
  "kernelspec": {
   "display_name": "Python 3.8.2 32-bit",
   "language": "python",
   "name": "python38232bit1061edd897c34bc9bde6683b5eabcb5f"
  },
  "language_info": {
   "codemirror_mode": {
    "name": "ipython",
    "version": 3
   },
   "file_extension": ".py",
   "mimetype": "text/x-python",
   "name": "python",
   "nbconvert_exporter": "python",
   "pygments_lexer": "ipython3",
   "version": "3.8.2-final"
  }
 },
 "nbformat": 4,
 "nbformat_minor": 2
}